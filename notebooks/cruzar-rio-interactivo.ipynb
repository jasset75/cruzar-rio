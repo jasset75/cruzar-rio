{
 "cells": [
  {
   "cell_type": "code",
   "execution_count": 1,
   "metadata": {
    "collapsed": true
   },
   "outputs": [],
   "source": [
    "import sys\n",
    "from crf_core import *"
   ]
  },
  {
   "cell_type": "code",
   "execution_count": 2,
   "metadata": {
    "collapsed": true
   },
   "outputs": [],
   "source": [
    "def is_int(s_int):\n",
    "  try:\n",
    "    int(s_int); return True\n",
    "  except:\n",
    "    return False"
   ]
  },
  {
   "cell_type": "code",
   "execution_count": 3,
   "metadata": {
    "collapsed": true
   },
   "outputs": [],
   "source": [
    "def pinta_movimiento_siguiente(r_posibles,estado):\n",
    "  print('Estado Actual:')\n",
    "  print('\\t',estado_to_str(estado))\n",
    "  print('Reglas de Producción factibles:')\n",
    "  for r in r_posibles:\n",
    "    print('\\t',regla_to_str(r))"
   ]
  },
  {
   "cell_type": "code",
   "execution_count": 4,
   "metadata": {
    "collapsed": true
   },
   "outputs": [],
   "source": [
    "def imprime_info(estado):\n",
    "  print('Estado Inicial:')\n",
    "  print('\\t',estado_to_str(EI))\n",
    "  print('Estado Objetivo:')\n",
    "  print('\\t',estado_to_str(EF))\n",
    "  print('Estado Actual:')\n",
    "  print('\\t',estado_to_str(estado))\n",
    "  print('Reglas de Producción:')\n",
    "  for n in range(1,len(RP)+1):\n",
    "    print('\\t',regla_to_str(n,short=False))\n",
    "    "
   ]
  },
  {
   "cell_type": "code",
   "execution_count": 5,
   "metadata": {
    "collapsed": true
   },
   "outputs": [],
   "source": [
    "def jugada_to_str(jugada):\n",
    "  return '=>'.join(map(regla_to_str,jugada))\n"
   ]
  },
  {
   "cell_type": "code",
   "execution_count": 6,
   "metadata": {
    "collapsed": true
   },
   "outputs": [],
   "source": [
    "#comienza la rutina principal"
   ]
  },
  {
   "cell_type": "code",
   "execution_count": 7,
   "metadata": {
    "collapsed": false
   },
   "outputs": [
    {
     "name": "stdout",
     "output_type": "stream",
     "text": [
      "Estado Inicial:\n",
      "\t {H=1,Oa=1,Ob=1,M=1,Aa=1,Ab=1,P=1,L=1,B=I}\n",
      "Estado Objetivo:\n",
      "\t {H=0,Oa=0,Ob=0,M=0,Aa=0,Ab=0,P=0,L=0,B=D}\n",
      "Estado Actual:\n",
      "\t {H=1,Oa=1,Ob=1,M=1,Aa=1,Ab=1,P=1,L=1,B=I}\n",
      "Reglas de Producción:\n",
      "\t [01|P -> D] :: R1: Mover Policía a la Derecha\n",
      "\t [02|P -> I] :: R2: Mover Policía a la Izquierda\n",
      "\t [03|H -> D] :: R3: Mover Padre a la Derecha\n",
      "\t [04|H -> I] :: R4: Mover Padre a la Izquierda\n",
      "\t [05|M -> D] :: R5: Mover Madre a la Derecha\n",
      "\t [06|M -> I] :: R6: Mover Madre a la Izquierda\n",
      "\t [07|P,Ox -> D] :: R7: Mover Policia con Niño a la Derecha\n",
      "\t [08|P,Ax -> D] :: R8: Mover Policia con Niña a la Derecha\n",
      "\t [09|P,L -> D] :: R9: Mover Policia con Ladron a la Derecha\n",
      "\t [10|P,H -> D] :: R10: Mover Policia con Padre a la Derecha\n",
      "\t [11|P,M -> D] :: R11: Mover Policia con Madre a la Derecha\n",
      "\t [12|H,Ox -> D] :: R12: Mover Padre con Niño a la Derecha\n",
      "\t [13|M,Ax -> D] :: R13: Mover Madre con Niña a la Derecha\n",
      "\t [14|P,Ox -> I] :: R14: Mover Policia con Niño a la Izquierda\n",
      "\t [15|P,Ax -> I] :: R15: Mover Policia con Niña a la Izquierda\n",
      "\t [16|P,L -> I] :: R16: Mover Policia con Ladron a la Izquierda\n",
      "\t [17|P,H -> I] :: R17: Mover Policia con Padre a la Izquierda\n",
      "\t [18|P,M -> I] :: R18: Mover Policia con Madre a la Izquierda\n",
      "\t [19|H,Ox -> I] :: R19: Mover Padre con Niño a la Izquierda\n",
      "\t [20|M,Ax -> I] :: R20: Mover Madre con Niña a la Izquierda\n",
      "\t [21|H,M -> D] :: R21: Mover Padre con Madre a la Derecha\n",
      "\t [22|H,M -> I] :: R22: Mover Padre con Madre a la Izquierda\n"
     ]
    }
   ],
   "source": [
    "#guarda la jugada completa\n",
    "jugada = []\n",
    "#partimos del estado inicial\n",
    "estado = EI\n",
    "#presentamos info por pantalla\n",
    "imprime_info(estado)"
   ]
  },
  {
   "cell_type": "code",
   "execution_count": 8,
   "metadata": {
    "collapsed": false
   },
   "outputs": [
    {
     "name": "stdout",
     "output_type": "stream",
     "text": [
      "Estado Actual:\n",
      "\t {H=1,Oa=1,Ob=1,M=1,Aa=1,Ab=1,P=1,L=1,B=I}\n",
      "Reglas de Producción factibles:\n",
      "\t [01|P -> D]\n",
      "\t [03|H -> D]\n",
      "\t [05|M -> D]\n",
      "\t [07|P,Ox -> D]\n",
      "\t [08|P,Ax -> D]\n",
      "\t [09|P,L -> D]\n",
      "\t [10|P,H -> D]\n",
      "\t [11|P,M -> D]\n",
      "\t [12|H,Ox -> D]\n",
      "\t [13|M,Ax -> D]\n",
      "\t [21|H,M -> D]\n"
     ]
    }
   ],
   "source": [
    "#obtenemos la lista de reglas de producción posibles desde el estado actual\n",
    "l_rp = reglas_posibles(RP,estado,1)\n",
    "#sacamos información por pantalla de las posibles reglas\n",
    "pinta_movimiento_siguiente(l_rp,estado)"
   ]
  },
  {
   "cell_type": "code",
   "execution_count": 9,
   "metadata": {
    "collapsed": false
   },
   "outputs": [
    {
     "name": "stdout",
     "output_type": "stream",
     "text": [
      "Introduce número de la siguiente regla, h (help), q (quit): 9\n",
      "Escogiste [09|P,L -> D]\n",
      "Estado Actual:\n",
      "\t {H=1,Oa=1,Ob=1,M=1,Aa=1,Ab=1,P=0,L=0,B=D}\n",
      "Reglas de Producción factibles:\n",
      "\t [02|P -> I]\n",
      "\t [16|P,L -> I]\n",
      "Introduce número de la siguiente regla, h (help), q (quit): 2\n",
      "Escogiste [02|P -> I]\n",
      "Estado Actual:\n",
      "\t {H=1,Oa=1,Ob=1,M=1,Aa=1,Ab=1,P=1,L=0,B=I}\n",
      "Reglas de Producción factibles:\n",
      "\t [01|P -> D]\n",
      "\t [03|H -> D]\n",
      "\t [05|M -> D]\n",
      "\t [07|P,Ox -> D]\n",
      "\t [08|P,Ax -> D]\n",
      "\t [10|P,H -> D]\n",
      "\t [11|P,M -> D]\n",
      "\t [12|H,Ox -> D]\n",
      "\t [13|M,Ax -> D]\n",
      "\t [21|H,M -> D]\n",
      "Introduce número de la siguiente regla, h (help), q (quit): 7\n",
      "Escogiste [07|P,Ox -> D]\n",
      "Estado Actual:\n",
      "\t {H=1,Oa=0,Ob=1,M=1,Aa=1,Ab=1,P=0,L=0,B=D}\n",
      "Reglas de Producción factibles:\n",
      "\t [02|P -> I]\n",
      "\t [14|P,Ox -> I]\n",
      "\t [16|P,L -> I]\n",
      "Introduce número de la siguiente regla, h (help), q (quit): 16\n",
      "Escogiste [16|P,L -> I]\n",
      "Estado Actual:\n",
      "\t {H=1,Oa=0,Ob=1,M=1,Aa=1,Ab=1,P=1,L=1,B=I}\n",
      "Reglas de Producción factibles:\n",
      "\t [01|P -> D]\n",
      "\t [03|H -> D]\n",
      "\t [05|M -> D]\n",
      "\t [07|P,Ox -> D]\n",
      "\t [08|P,Ax -> D]\n",
      "\t [09|P,L -> D]\n",
      "\t [10|P,H -> D]\n",
      "\t [11|P,M -> D]\n",
      "\t [12|H,Ox -> D]\n",
      "\t [13|M,Ax -> D]\n",
      "\t [21|H,M -> D]\n",
      "Introduce número de la siguiente regla, h (help), q (quit): 12\n",
      "Escogiste [12|H,Ox -> D]\n",
      "Estado Actual:\n",
      "\t {H=0,Oa=0,Ob=0,M=1,Aa=1,Ab=1,P=1,L=1,B=D}\n",
      "Reglas de Producción factibles:\n",
      "\t [04|H -> I]\n",
      "\t [19|H,Ox -> I]\n",
      "Introduce número de la siguiente regla, h (help), q (quit): 4\n",
      "Escogiste [04|H -> I]\n",
      "Estado Actual:\n",
      "\t {H=1,Oa=0,Ob=0,M=1,Aa=1,Ab=1,P=1,L=1,B=I}\n",
      "Reglas de Producción factibles:\n",
      "\t [01|P -> D]\n",
      "\t [03|H -> D]\n",
      "\t [05|M -> D]\n",
      "\t [08|P,Ax -> D]\n",
      "\t [09|P,L -> D]\n",
      "\t [10|P,H -> D]\n",
      "\t [11|P,M -> D]\n",
      "\t [13|M,Ax -> D]\n",
      "\t [21|H,M -> D]\n",
      "Introduce número de la siguiente regla, h (help), q (quit): 21\n",
      "Escogiste [21|H,M -> D]\n",
      "Estado Actual:\n",
      "\t {H=0,Oa=0,Ob=0,M=0,Aa=1,Ab=1,P=1,L=1,B=D}\n",
      "Reglas de Producción factibles:\n",
      "\t [04|H -> I]\n",
      "\t [06|M -> I]\n",
      "\t [19|H,Ox -> I]\n",
      "\t [22|H,M -> I]\n",
      "Introduce número de la siguiente regla, h (help), q (quit): 6\n",
      "Escogiste [06|M -> I]\n",
      "Estado Actual:\n",
      "\t {H=0,Oa=0,Ob=0,M=1,Aa=1,Ab=1,P=1,L=1,B=I}\n",
      "Reglas de Producción factibles:\n",
      "\t [01|P -> D]\n",
      "\t [05|M -> D]\n",
      "\t [08|P,Ax -> D]\n",
      "\t [09|P,L -> D]\n",
      "\t [11|P,M -> D]\n",
      "\t [13|M,Ax -> D]\n",
      "Introduce número de la siguiente regla, h (help), q (quit): 9\n",
      "Escogiste [09|P,L -> D]\n",
      "Estado Actual:\n",
      "\t {H=0,Oa=0,Ob=0,M=1,Aa=1,Ab=1,P=0,L=0,B=D}\n",
      "Reglas de Producción factibles:\n",
      "\t [02|P -> I]\n",
      "\t [04|H -> I]\n",
      "\t [14|P,Ox -> I]\n",
      "\t [16|P,L -> I]\n",
      "\t [17|P,H -> I]\n",
      "\t [19|H,Ox -> I]\n",
      "Introduce número de la siguiente regla, h (help), q (quit): 4\n",
      "Escogiste [04|H -> I]\n",
      "Estado Actual:\n",
      "\t {H=1,Oa=0,Ob=0,M=1,Aa=1,Ab=1,P=0,L=0,B=I}\n",
      "Reglas de Producción factibles:\n",
      "\t [03|H -> D]\n",
      "\t [05|M -> D]\n",
      "\t [13|M,Ax -> D]\n",
      "\t [21|H,M -> D]\n",
      "Introduce número de la siguiente regla, h (help), q (quit): 21\n",
      "Escogiste [21|H,M -> D]\n",
      "Estado Actual:\n",
      "\t {H=0,Oa=0,Ob=0,M=0,Aa=1,Ab=1,P=0,L=0,B=D}\n",
      "Reglas de Producción factibles:\n",
      "\t [02|P -> I]\n",
      "\t [04|H -> I]\n",
      "\t [06|M -> I]\n",
      "\t [14|P,Ox -> I]\n",
      "\t [16|P,L -> I]\n",
      "\t [17|P,H -> I]\n",
      "\t [18|P,M -> I]\n",
      "\t [19|H,Ox -> I]\n",
      "\t [22|H,M -> I]\n",
      "Introduce número de la siguiente regla, h (help), q (quit): 6\n",
      "Escogiste [06|M -> I]\n",
      "Estado Actual:\n",
      "\t {H=0,Oa=0,Ob=0,M=1,Aa=1,Ab=1,P=0,L=0,B=I}\n",
      "Reglas de Producción factibles:\n",
      "\t [05|M -> D]\n",
      "\t [13|M,Ax -> D]\n",
      "Introduce número de la siguiente regla, h (help), q (quit): 13\n",
      "Escogiste [13|M,Ax -> D]\n",
      "Estado Actual:\n",
      "\t {H=0,Oa=0,Ob=0,M=0,Aa=0,Ab=1,P=0,L=0,B=D}\n",
      "Reglas de Producción factibles:\n",
      "\t [02|P -> I]\n",
      "\t [04|H -> I]\n",
      "\t [06|M -> I]\n",
      "\t [14|P,Ox -> I]\n",
      "\t [15|P,Ax -> I]\n",
      "\t [16|P,L -> I]\n",
      "\t [17|P,H -> I]\n",
      "\t [18|P,M -> I]\n",
      "\t [19|H,Ox -> I]\n",
      "\t [20|M,Ax -> I]\n",
      "\t [22|H,M -> I]\n",
      "Introduce número de la siguiente regla, h (help), q (quit): 16\n",
      "Escogiste [16|P,L -> I]\n",
      "Estado Actual:\n",
      "\t {H=0,Oa=0,Ob=0,M=0,Aa=0,Ab=1,P=1,L=1,B=I}\n",
      "Reglas de Producción factibles:\n",
      "\t [01|P -> D]\n",
      "\t [08|P,Ax -> D]\n",
      "\t [09|P,L -> D]\n",
      "Introduce número de la siguiente regla, h (help), q (quit): 8\n",
      "Escogiste [08|P,Ax -> D]\n",
      "Estado Actual:\n",
      "\t {H=0,Oa=0,Ob=0,M=0,Aa=0,Ab=0,P=0,L=1,B=D}\n",
      "Reglas de Producción factibles:\n",
      "\t [02|P -> I]\n",
      "\t [04|H -> I]\n",
      "\t [06|M -> I]\n",
      "\t [14|P,Ox -> I]\n",
      "\t [15|P,Ax -> I]\n",
      "\t [17|P,H -> I]\n",
      "\t [18|P,M -> I]\n",
      "\t [19|H,Ox -> I]\n",
      "\t [20|M,Ax -> I]\n",
      "\t [22|H,M -> I]\n",
      "Introduce número de la siguiente regla, h (help), q (quit): 2\n",
      "Escogiste [02|P -> I]\n",
      "Estado Actual:\n",
      "\t {H=0,Oa=0,Ob=0,M=0,Aa=0,Ab=0,P=1,L=1,B=I}\n",
      "Reglas de Producción factibles:\n",
      "\t [01|P -> D]\n",
      "\t [09|P,L -> D]\n",
      "Introduce número de la siguiente regla, h (help), q (quit): 9\n",
      "Escogiste [09|P,L -> D]\n",
      "Tú ganas!\n",
      "[09|P,L -> D]=>[02|P -> I]=>[07|P,Ox -> D]=>[16|P,L -> I]=>[12|H,Ox -> D]=>[04|H -> I]=>[21|H,M -> D]=>[06|M -> I]=>[09|P,L -> D]=>[04|H -> I]=>[21|H,M -> D]=>[06|M -> I]=>[13|M,Ax -> D]=>[16|P,L -> I]=>[08|P,Ax -> D]=>[02|P -> I]=>[09|P,L -> D]\n"
     ]
    }
   ],
   "source": [
    "#bucle del juego interactivo\n",
    "while True:\n",
    "  sr = input('Introduce número de la siguiente regla, h (help), q (quit): ')\n",
    "  if sr=='q':\n",
    "    sys.exit(0)\n",
    "  elif sr=='h':\n",
    "    imprime_info(estado)\n",
    "  else:\n",
    "    if not is_int(sr) or not int(sr) in l_rp:\n",
    "      print('\"{0}\" no es una regla posible!'.format(sr))\n",
    "    else:\n",
    "      i_sr = int(sr)\n",
    "      jugada.append(i_sr)\n",
    "      print('Escogiste {0}'.format(regla_to_str(i_sr)))\n",
    "      #la regla no cumple la postcondición LOSE\n",
    "      if not aplicar_regla(RP,estado,i_sr):\n",
    "        print(estado_to_str(estado))\n",
    "        print('Tú pierdes!')\n",
    "        print(jugada_to_str(jugada))\n",
    "        break\n",
    "      #la regla lleva al estdo final WIN\n",
    "      elif check_estado_final(estado):\n",
    "        print('Tú ganas!')\n",
    "        print(jugada_to_str(jugada))\n",
    "        break\n",
    "      #la regla lleva a un estado intermedio válido\n",
    "      else:\n",
    "        l_rp = reglas_posibles(RP,estado,1)\n",
    "        pinta_movimiento_siguiente(l_rp,estado)\n"
   ]
  }
 ],
 "metadata": {
  "anaconda-cloud": {
   "attach-environment": true,
   "summary": "cruzar-rio-interactivo"
  },
  "kernelspec": {
   "display_name": "Python [conda env:si]",
   "language": "python",
   "name": "conda-env-si-py"
  },
  "language_info": {
   "codemirror_mode": {
    "name": "ipython",
    "version": 3
   },
   "file_extension": ".py",
   "mimetype": "text/x-python",
   "name": "python",
   "nbconvert_exporter": "python",
   "pygments_lexer": "ipython3",
   "version": "3.5.2"
  }
 },
 "nbformat": 4,
 "nbformat_minor": 1
}
